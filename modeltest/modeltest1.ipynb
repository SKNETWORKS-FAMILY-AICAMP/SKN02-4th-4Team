{
 "cells": [
  {
   "cell_type": "code",
   "execution_count": 1,
   "metadata": {},
   "outputs": [],
   "source": [
    "import os\n",
    "\n",
    "# 경로에서 자동차 모델명을 추출하는 함수\n",
    "def extract_model_name_from_path(pdf_path):\n",
    "    # 상위 폴더 이름이 모델명이므로 os.path.split 사용\n",
    "    folder_path = os.path.dirname(pdf_path)\n",
    "    model_name = os.path.basename(folder_path)  # 상위 폴더가 모델명\n",
    "    return model_name\n"
   ]
  },
  {
   "cell_type": "code",
   "execution_count": 4,
   "metadata": {},
   "outputs": [],
   "source": [
    "import os\n",
    "from langchain.vectorstores import Chroma\n",
    "from langchain.document_loaders import PyPDFLoader\n"
   ]
  },
  {
   "cell_type": "code",
   "execution_count": 6,
   "metadata": {},
   "outputs": [
    {
     "name": "stderr",
     "output_type": "stream",
     "text": [
      "c:\\ProgramData\\anaconda3\\envs\\ollama3\\lib\\site-packages\\huggingface_hub\\file_download.py:1132: FutureWarning: `resume_download` is deprecated and will be removed in version 1.0.0. Downloads always resume when possible. If you want to force a new download, use `force_download=True`.\n",
      "  warnings.warn(\n"
     ]
    }
   ],
   "source": [
    "from langchain.embeddings import HuggingFaceEmbeddings\n",
    "\n",
    "model_name = \"bespin-global/klue-sroberta-base-continue-learning-by-mnr\" \n",
    "model_kwargs = {'device': 'cuda'}\n",
    "encode_kwargs = {'normalize_embeddings': False}\n",
    "hf = HuggingFaceEmbeddings(\n",
    "    model_name=model_name,\n",
    "    model_kwargs=model_kwargs,\n",
    "    encode_kwargs=encode_kwargs\n",
    ")"
   ]
  },
  {
   "cell_type": "code",
   "execution_count": 9,
   "metadata": {},
   "outputs": [],
   "source": [
    "\n",
    "\n",
    "# OpenAI API를 사용한 임베딩 생성기\n",
    "# embeddings = OpenAIEmbeddings()\n",
    "\n",
    "# 경로에서 자동차 모델명을 추출하는 함수\n",
    "def extract_model_name_from_path(pdf_path):\n",
    "    folder_path = os.path.dirname(pdf_path)\n",
    "    model_name = os.path.basename(folder_path)  # 상위 폴더가 모델명\n",
    "    return model_name\n",
    "\n",
    "# 폴더 내의 모든 PDF 파일을 로드하여 문서화하는 함수\n",
    "def load_documents_from_pdfs(pdf_files):\n",
    "    documents = []\n",
    "    for pdf_file in pdf_files:\n",
    "        loader = PyPDFLoader(pdf_file)\n",
    "        documents.extend(loader.load())  # 각 PDF 파일에서 문서를 추출하여 리스트에 추가\n",
    "    return documents\n",
    "\n",
    "# 각 모델에 대해 모든 PDF를 하나의 문서 집합으로 처리하는 함수\n",
    "def process_pdfs_for_model(pdf_files_by_folder):\n",
    "    for foldername, pdf_files in pdf_files_by_folder.items():\n",
    "        # 각 모델에 대해 폴더 내의 모든 PDF 파일을 하나의 문서 집합으로 로딩\n",
    "        documents = load_documents_from_pdfs(pdf_files)\n",
    "        \n",
    "        # 모델명 추출 (폴더명)\n",
    "        model_name = os.path.basename(foldername)\n",
    "        \n",
    "        # Chroma DB 생성 및 저장\n",
    "        vectorstore = Chroma.from_documents(documents, embedding=hf, persist_directory=f\"./{model_name}_chroma\")\n",
    "        vectorstore.persist()\n",
    "        print(f\"Vector store saved for model: {model_name}\")\n"
   ]
  },
  {
   "cell_type": "code",
   "execution_count": 10,
   "metadata": {},
   "outputs": [],
   "source": [
    "def process_pdfs_in_folders(base_directory):\n",
    "    # 폴더별로 PDF 파일 수집\n",
    "    pdf_files_by_folder = {}\n",
    "    \n",
    "    for foldername, subfolders, filenames in os.walk(base_directory):\n",
    "        pdf_files = []\n",
    "        for filename in filenames:\n",
    "            if filename.endswith('.pdf'):\n",
    "                file_path = os.path.join(foldername, filename)\n",
    "                pdf_files.append(file_path)\n",
    "        \n",
    "        # 해당 폴더에 PDF 파일이 있으면 모델별로 저장\n",
    "        if pdf_files:\n",
    "            pdf_files_by_folder[foldername] = pdf_files\n",
    "    \n",
    "    # 모델별로 PDF 파일을 처리하고 벡터 스토어에 저장\n",
    "    process_pdfs_for_model(pdf_files_by_folder)\n"
   ]
  },
  {
   "cell_type": "code",
   "execution_count": 21,
   "metadata": {},
   "outputs": [
    {
     "name": "stderr",
     "output_type": "stream",
     "text": [
      "Ignoring wrong pointing object 664 0 (offset 3231188)\n",
      "Ignoring wrong pointing object 665 0 (offset 3268701)\n",
      "Ignoring wrong pointing object 666 0 (offset 3447411)\n",
      "Ignoring wrong pointing object 667 0 (offset 3526272)\n",
      "Ignoring wrong pointing object 668 0 (offset 3526323)\n",
      "Ignoring wrong pointing object 669 0 (offset 3526795)\n",
      "Ignoring wrong pointing object 670 0 (offset 3526834)\n",
      "Ignoring wrong pointing object 671 0 (offset 3526873)\n",
      "Ignoring wrong pointing object 672 0 (offset 3537929)\n",
      "Ignoring wrong pointing object 673 0 (offset 3547379)\n",
      "Ignoring wrong pointing object 674 0 (offset 3547426)\n",
      "Ignoring wrong pointing object 675 0 (offset 3547483)\n",
      "Ignoring wrong pointing object 676 0 (offset 3547975)\n",
      "Ignoring wrong pointing object 677 0 (offset 3548033)\n",
      "Ignoring wrong pointing object 678 0 (offset 3548093)\n",
      "Ignoring wrong pointing object 679 0 (offset 3548530)\n",
      "Ignoring wrong pointing object 680 0 (offset 3548582)\n",
      "Ignoring wrong pointing object 681 0 (offset 3548633)\n",
      "Ignoring wrong pointing object 682 0 (offset 3548684)\n",
      "Ignoring wrong pointing object 683 0 (offset 3548735)\n",
      "Ignoring wrong pointing object 684 0 (offset 3548786)\n",
      "Ignoring wrong pointing object 685 0 (offset 3548837)\n",
      "Ignoring wrong pointing object 686 0 (offset 3548888)\n",
      "Ignoring wrong pointing object 687 0 (offset 3548939)\n",
      "Ignoring wrong pointing object 688 0 (offset 3548990)\n",
      "Ignoring wrong pointing object 689 0 (offset 3556782)\n",
      "Ignoring wrong pointing object 690 0 (offset 3556833)\n",
      "Ignoring wrong pointing object 691 0 (offset 3556939)\n",
      "Ignoring wrong pointing object 692 0 (offset 3556990)\n",
      "Ignoring wrong pointing object 693 0 (offset 3557041)\n",
      "Ignoring wrong pointing object 694 0 (offset 3557092)\n",
      "Ignoring wrong pointing object 695 0 (offset 3557153)\n",
      "Ignoring wrong pointing object 696 0 (offset 3557204)\n",
      "Ignoring wrong pointing object 697 0 (offset 3557255)\n",
      "Ignoring wrong pointing object 698 0 (offset 3557306)\n",
      "Ignoring wrong pointing object 699 0 (offset 3557377)\n",
      "Ignoring wrong pointing object 700 0 (offset 3557428)\n",
      "Ignoring wrong pointing object 701 0 (offset 3557479)\n",
      "Ignoring wrong pointing object 702 0 (offset 3557530)\n",
      "Ignoring wrong pointing object 703 0 (offset 3557581)\n",
      "Ignoring wrong pointing object 704 0 (offset 3557632)\n",
      "Ignoring wrong pointing object 705 0 (offset 3557683)\n",
      "Ignoring wrong pointing object 706 0 (offset 3557734)\n",
      "Ignoring wrong pointing object 707 0 (offset 3557785)\n",
      "Ignoring wrong pointing object 708 0 (offset 3557836)\n",
      "Ignoring wrong pointing object 709 0 (offset 3557887)\n",
      "Ignoring wrong pointing object 710 0 (offset 3557938)\n",
      "Ignoring wrong pointing object 711 0 (offset 3557989)\n",
      "Ignoring wrong pointing object 712 0 (offset 3558040)\n",
      "Ignoring wrong pointing object 713 0 (offset 3558091)\n",
      "Ignoring wrong pointing object 714 0 (offset 3558142)\n",
      "Ignoring wrong pointing object 715 0 (offset 3558193)\n",
      "Ignoring wrong pointing object 716 0 (offset 3558254)\n",
      "Ignoring wrong pointing object 717 0 (offset 3558305)\n",
      "Ignoring wrong pointing object 718 0 (offset 3558366)\n",
      "Ignoring wrong pointing object 719 0 (offset 3558417)\n",
      "Ignoring wrong pointing object 720 0 (offset 3558478)\n",
      "Ignoring wrong pointing object 721 0 (offset 3558529)\n",
      "Ignoring wrong pointing object 722 0 (offset 3558590)\n",
      "Ignoring wrong pointing object 723 0 (offset 3558641)\n",
      "Ignoring wrong pointing object 724 0 (offset 3558702)\n",
      "Ignoring wrong pointing object 725 0 (offset 3558753)\n",
      "Ignoring wrong pointing object 726 0 (offset 3558844)\n",
      "Ignoring wrong pointing object 727 0 (offset 3558903)\n",
      "Ignoring wrong pointing object 728 0 (offset 3558953)\n",
      "Ignoring wrong pointing object 729 0 (offset 3559011)\n",
      "Ignoring wrong pointing object 730 0 (offset 3559126)\n",
      "Ignoring wrong pointing object 731 0 (offset 3559182)\n",
      "Ignoring wrong pointing object 732 0 (offset 3559238)\n",
      "Ignoring wrong pointing object 733 0 (offset 3559294)\n",
      "Ignoring wrong pointing object 734 0 (offset 3559350)\n",
      "Ignoring wrong pointing object 735 0 (offset 3559406)\n",
      "Ignoring wrong pointing object 736 0 (offset 3559462)\n",
      "Ignoring wrong pointing object 737 0 (offset 3559518)\n",
      "Ignoring wrong pointing object 738 0 (offset 3559574)\n",
      "Ignoring wrong pointing object 739 0 (offset 3559630)\n",
      "Ignoring wrong pointing object 740 0 (offset 3559677)\n",
      "Ignoring wrong pointing object 741 0 (offset 3559733)\n",
      "Ignoring wrong pointing object 742 0 (offset 3559834)\n",
      "Ignoring wrong pointing object 743 0 (offset 3559880)\n",
      "Ignoring wrong pointing object 744 0 (offset 3559943)\n",
      "Ignoring wrong pointing object 745 0 (offset 3560000)\n",
      "Ignoring wrong pointing object 746 0 (offset 3560069)\n",
      "Ignoring wrong pointing object 747 0 (offset 3560131)\n",
      "Ignoring wrong pointing object 748 0 (offset 3560193)\n",
      "Ignoring wrong pointing object 749 0 (offset 3560255)\n",
      "Ignoring wrong pointing object 750 0 (offset 3560324)\n",
      "Ignoring wrong pointing object 751 0 (offset 3560393)\n",
      "Ignoring wrong pointing object 752 0 (offset 3560440)\n",
      "Ignoring wrong pointing object 753 0 (offset 3560496)\n",
      "Ignoring wrong pointing object 754 0 (offset 3560590)\n",
      "Ignoring wrong pointing object 755 0 (offset 3560636)\n",
      "Ignoring wrong pointing object 756 0 (offset 3560699)\n",
      "Ignoring wrong pointing object 757 0 (offset 3560756)\n",
      "Ignoring wrong pointing object 758 0 (offset 3560825)\n",
      "Ignoring wrong pointing object 759 0 (offset 3560887)\n",
      "Ignoring wrong pointing object 760 0 (offset 3560949)\n",
      "Ignoring wrong pointing object 761 0 (offset 3561013)\n",
      "Ignoring wrong pointing object 762 0 (offset 3561075)\n",
      "Ignoring wrong pointing object 763 0 (offset 3561144)\n",
      "Ignoring wrong pointing object 764 0 (offset 3561213)\n",
      "Ignoring wrong pointing object 765 0 (offset 3561260)\n",
      "Ignoring wrong pointing object 766 0 (offset 3561316)\n",
      "Ignoring wrong pointing object 767 0 (offset 3561407)\n",
      "Ignoring wrong pointing object 768 0 (offset 3561453)\n",
      "Ignoring wrong pointing object 769 0 (offset 3561516)\n",
      "Ignoring wrong pointing object 770 0 (offset 3561573)\n",
      "Ignoring wrong pointing object 771 0 (offset 3561642)\n",
      "Ignoring wrong pointing object 772 0 (offset 3561704)\n",
      "Ignoring wrong pointing object 773 0 (offset 3561766)\n",
      "Ignoring wrong pointing object 774 0 (offset 3561828)\n",
      "Ignoring wrong pointing object 775 0 (offset 3561897)\n",
      "Ignoring wrong pointing object 776 0 (offset 3561966)\n",
      "Ignoring wrong pointing object 777 0 (offset 3562013)\n",
      "Ignoring wrong pointing object 778 0 (offset 3562069)\n",
      "Ignoring wrong pointing object 779 0 (offset 3562163)\n",
      "Ignoring wrong pointing object 780 0 (offset 3562209)\n",
      "Ignoring wrong pointing object 781 0 (offset 3562272)\n",
      "Ignoring wrong pointing object 782 0 (offset 3562329)\n",
      "Ignoring wrong pointing object 783 0 (offset 3562398)\n",
      "Ignoring wrong pointing object 784 0 (offset 3562460)\n",
      "Ignoring wrong pointing object 785 0 (offset 3562522)\n",
      "Ignoring wrong pointing object 786 0 (offset 3562586)\n",
      "Ignoring wrong pointing object 787 0 (offset 3562648)\n",
      "Ignoring wrong pointing object 788 0 (offset 3562717)\n",
      "Ignoring wrong pointing object 789 0 (offset 3562786)\n",
      "Ignoring wrong pointing object 790 0 (offset 3562833)\n",
      "Ignoring wrong pointing object 791 0 (offset 3562889)\n",
      "Ignoring wrong pointing object 792 0 (offset 3562983)\n",
      "Ignoring wrong pointing object 793 0 (offset 3563029)\n",
      "Ignoring wrong pointing object 794 0 (offset 3563092)\n",
      "Ignoring wrong pointing object 795 0 (offset 3563149)\n",
      "Ignoring wrong pointing object 796 0 (offset 3563218)\n",
      "Ignoring wrong pointing object 797 0 (offset 3563280)\n",
      "Ignoring wrong pointing object 798 0 (offset 3563342)\n",
      "Ignoring wrong pointing object 799 0 (offset 3563406)\n",
      "Ignoring wrong pointing object 800 0 (offset 3563468)\n",
      "Ignoring wrong pointing object 801 0 (offset 3563537)\n",
      "Ignoring wrong pointing object 802 0 (offset 3563606)\n",
      "Ignoring wrong pointing object 803 0 (offset 3563653)\n",
      "Ignoring wrong pointing object 804 0 (offset 3563709)\n",
      "Ignoring wrong pointing object 805 0 (offset 3563800)\n",
      "Ignoring wrong pointing object 806 0 (offset 3563846)\n",
      "Ignoring wrong pointing object 807 0 (offset 3563909)\n",
      "Ignoring wrong pointing object 808 0 (offset 3563966)\n",
      "Ignoring wrong pointing object 809 0 (offset 3564035)\n",
      "Ignoring wrong pointing object 810 0 (offset 3564097)\n",
      "Ignoring wrong pointing object 811 0 (offset 3564159)\n",
      "Ignoring wrong pointing object 812 0 (offset 3564221)\n",
      "Ignoring wrong pointing object 813 0 (offset 3564290)\n",
      "Ignoring wrong pointing object 814 0 (offset 3564359)\n",
      "Ignoring wrong pointing object 815 0 (offset 3564406)\n",
      "Ignoring wrong pointing object 816 0 (offset 3564462)\n",
      "Ignoring wrong pointing object 817 0 (offset 3564553)\n",
      "Ignoring wrong pointing object 818 0 (offset 3564599)\n",
      "Ignoring wrong pointing object 819 0 (offset 3564662)\n",
      "Ignoring wrong pointing object 820 0 (offset 3564719)\n",
      "Ignoring wrong pointing object 821 0 (offset 3564788)\n",
      "Ignoring wrong pointing object 822 0 (offset 3564850)\n",
      "Ignoring wrong pointing object 823 0 (offset 3564912)\n",
      "Ignoring wrong pointing object 824 0 (offset 3564974)\n",
      "Ignoring wrong pointing object 825 0 (offset 3565043)\n",
      "Ignoring wrong pointing object 826 0 (offset 3565112)\n",
      "Ignoring wrong pointing object 827 0 (offset 3565159)\n",
      "Ignoring wrong pointing object 828 0 (offset 3565215)\n",
      "Ignoring wrong pointing object 829 0 (offset 3565306)\n",
      "Ignoring wrong pointing object 830 0 (offset 3565352)\n",
      "Ignoring wrong pointing object 831 0 (offset 3565415)\n",
      "Ignoring wrong pointing object 832 0 (offset 3565472)\n",
      "Ignoring wrong pointing object 833 0 (offset 3565541)\n",
      "Ignoring wrong pointing object 834 0 (offset 3565603)\n",
      "Ignoring wrong pointing object 835 0 (offset 3565665)\n",
      "Ignoring wrong pointing object 836 0 (offset 3565727)\n",
      "Ignoring wrong pointing object 837 0 (offset 3565796)\n",
      "Ignoring wrong pointing object 838 0 (offset 3565865)\n",
      "Ignoring wrong pointing object 839 0 (offset 3565912)\n",
      "Ignoring wrong pointing object 840 0 (offset 3565968)\n",
      "Ignoring wrong pointing object 841 0 (offset 3566059)\n",
      "Ignoring wrong pointing object 842 0 (offset 3566105)\n",
      "Ignoring wrong pointing object 843 0 (offset 3566168)\n",
      "Ignoring wrong pointing object 844 0 (offset 3566225)\n",
      "Ignoring wrong pointing object 845 0 (offset 3566294)\n",
      "Ignoring wrong pointing object 846 0 (offset 3566356)\n",
      "Ignoring wrong pointing object 847 0 (offset 3566418)\n",
      "Ignoring wrong pointing object 848 0 (offset 3566480)\n",
      "Ignoring wrong pointing object 849 0 (offset 3566549)\n",
      "Ignoring wrong pointing object 850 0 (offset 3566618)\n",
      "Ignoring wrong pointing object 851 0 (offset 3566692)\n",
      "Ignoring wrong pointing object 852 0 (offset 3566750)\n",
      "Ignoring wrong pointing object 853 0 (offset 3566810)\n",
      "Ignoring wrong pointing object 854 0 (offset 3566879)\n",
      "Ignoring wrong pointing object 855 0 (offset 3566926)\n",
      "Ignoring wrong pointing object 856 0 (offset 3566973)\n",
      "Ignoring wrong pointing object 857 0 (offset 3567037)\n",
      "Ignoring wrong pointing object 858 0 (offset 3567106)\n",
      "Ignoring wrong pointing object 859 0 (offset 3567175)\n",
      "Ignoring wrong pointing object 860 0 (offset 3567249)\n",
      "Ignoring wrong pointing object 861 0 (offset 3567308)\n",
      "Ignoring wrong pointing object 862 0 (offset 3567366)\n",
      "Ignoring wrong pointing object 863 0 (offset 3567440)\n",
      "Ignoring wrong pointing object 864 0 (offset 3567498)\n",
      "Ignoring wrong pointing object 865 0 (offset 3567556)\n",
      "Ignoring wrong pointing object 866 0 (offset 3567665)\n",
      "Ignoring wrong pointing object 867 0 (offset 3567734)\n",
      "Ignoring wrong pointing object 868 0 (offset 3567790)\n",
      "Ignoring wrong pointing object 869 0 (offset 3567846)\n",
      "Ignoring wrong pointing object 870 0 (offset 3567902)\n",
      "Ignoring wrong pointing object 871 0 (offset 3567958)\n",
      "Ignoring wrong pointing object 872 0 (offset 3568014)\n",
      "Ignoring wrong pointing object 873 0 (offset 3568070)\n",
      "Ignoring wrong pointing object 874 0 (offset 3568126)\n",
      "Ignoring wrong pointing object 875 0 (offset 3568173)\n",
      "Ignoring wrong pointing object 876 0 (offset 3568220)\n",
      "Ignoring wrong pointing object 877 0 (offset 3568311)\n",
      "Ignoring wrong pointing object 878 0 (offset 3568373)\n",
      "Ignoring wrong pointing object 879 0 (offset 3568442)\n",
      "Ignoring wrong pointing object 880 0 (offset 3568511)\n",
      "Ignoring wrong pointing object 881 0 (offset 3568558)\n",
      "Ignoring wrong pointing object 882 0 (offset 3568605)\n",
      "Ignoring wrong pointing object 883 0 (offset 3568696)\n",
      "Ignoring wrong pointing object 884 0 (offset 3568758)\n",
      "Ignoring wrong pointing object 885 0 (offset 3568827)\n",
      "Ignoring wrong pointing object 886 0 (offset 3568894)\n",
      "Ignoring wrong pointing object 887 0 (offset 3568941)\n",
      "Ignoring wrong pointing object 888 0 (offset 3568988)\n",
      "Ignoring wrong pointing object 889 0 (offset 3569079)\n",
      "Ignoring wrong pointing object 890 0 (offset 3569141)\n",
      "Ignoring wrong pointing object 891 0 (offset 3569210)\n",
      "Ignoring wrong pointing object 892 0 (offset 3569279)\n",
      "Ignoring wrong pointing object 893 0 (offset 3569326)\n",
      "Ignoring wrong pointing object 894 0 (offset 3569373)\n",
      "Ignoring wrong pointing object 895 0 (offset 3569464)\n",
      "Ignoring wrong pointing object 896 0 (offset 3569526)\n",
      "Ignoring wrong pointing object 897 0 (offset 3569595)\n",
      "Ignoring wrong pointing object 898 0 (offset 3569664)\n",
      "Ignoring wrong pointing object 899 0 (offset 3569711)\n",
      "Ignoring wrong pointing object 900 0 (offset 3569758)\n",
      "Ignoring wrong pointing object 901 0 (offset 3569849)\n",
      "Ignoring wrong pointing object 902 0 (offset 3569911)\n",
      "Ignoring wrong pointing object 903 0 (offset 3569980)\n",
      "Ignoring wrong pointing object 904 0 (offset 3570047)\n",
      "Ignoring wrong pointing object 905 0 (offset 3570094)\n",
      "Ignoring wrong pointing object 906 0 (offset 3570141)\n",
      "Ignoring wrong pointing object 907 0 (offset 3570237)\n",
      "Ignoring wrong pointing object 908 0 (offset 3570299)\n",
      "Ignoring wrong pointing object 909 0 (offset 3570368)\n",
      "Ignoring wrong pointing object 910 0 (offset 3570437)\n",
      "Ignoring wrong pointing object 911 0 (offset 3570484)\n",
      "Ignoring wrong pointing object 912 0 (offset 3570531)\n",
      "Ignoring wrong pointing object 913 0 (offset 3570622)\n",
      "Ignoring wrong pointing object 914 0 (offset 3570684)\n",
      "Ignoring wrong pointing object 915 0 (offset 3570753)\n",
      "Ignoring wrong pointing object 916 0 (offset 3570822)\n",
      "Ignoring wrong pointing object 917 0 (offset 3570882)\n",
      "Ignoring wrong pointing object 918 0 (offset 3570950)\n",
      "Ignoring wrong pointing object 919 0 (offset 3570997)\n",
      "Ignoring wrong pointing object 920 0 (offset 3571044)\n",
      "Ignoring wrong pointing object 921 0 (offset 3571108)\n",
      "Ignoring wrong pointing object 922 0 (offset 3571177)\n",
      "Ignoring wrong pointing object 923 0 (offset 3571246)\n",
      "Ignoring wrong pointing object 924 0 (offset 3571387)\n",
      "Ignoring wrong pointing object 925 0 (offset 3571455)\n",
      "Ignoring wrong pointing object 926 0 (offset 3571511)\n",
      "Ignoring wrong pointing object 927 0 (offset 3571567)\n",
      "Ignoring wrong pointing object 928 0 (offset 3571623)\n",
      "Ignoring wrong pointing object 929 0 (offset 3571679)\n",
      "Ignoring wrong pointing object 930 0 (offset 3571735)\n",
      "Ignoring wrong pointing object 931 0 (offset 3571791)\n",
      "Ignoring wrong pointing object 932 0 (offset 3571847)\n",
      "Ignoring wrong pointing object 933 0 (offset 3571903)\n",
      "Ignoring wrong pointing object 934 0 (offset 3571959)\n",
      "Ignoring wrong pointing object 935 0 (offset 3572015)\n",
      "Ignoring wrong pointing object 936 0 (offset 3572071)\n",
      "Ignoring wrong pointing object 937 0 (offset 3572118)\n",
      "Ignoring wrong pointing object 938 0 (offset 3572165)\n",
      "Ignoring wrong pointing object 939 0 (offset 3572256)\n",
      "Ignoring wrong pointing object 940 0 (offset 3572318)\n",
      "Ignoring wrong pointing object 941 0 (offset 3572387)\n",
      "Ignoring wrong pointing object 942 0 (offset 3572456)\n",
      "Ignoring wrong pointing object 943 0 (offset 3572503)\n",
      "Ignoring wrong pointing object 944 0 (offset 3572550)\n",
      "Ignoring wrong pointing object 945 0 (offset 3572641)\n",
      "Ignoring wrong pointing object 946 0 (offset 3572703)\n",
      "Ignoring wrong pointing object 947 0 (offset 3572772)\n",
      "Ignoring wrong pointing object 948 0 (offset 3572841)\n",
      "Ignoring wrong pointing object 949 0 (offset 3572888)\n",
      "Ignoring wrong pointing object 950 0 (offset 3572935)\n",
      "Ignoring wrong pointing object 951 0 (offset 3573026)\n",
      "Ignoring wrong pointing object 952 0 (offset 3573088)\n",
      "Ignoring wrong pointing object 953 0 (offset 3573157)\n",
      "Ignoring wrong pointing object 954 0 (offset 3573226)\n",
      "Ignoring wrong pointing object 955 0 (offset 3573273)\n",
      "Ignoring wrong pointing object 956 0 (offset 3573320)\n",
      "Ignoring wrong pointing object 957 0 (offset 3573411)\n",
      "Ignoring wrong pointing object 958 0 (offset 3573473)\n",
      "Ignoring wrong pointing object 959 0 (offset 3573542)\n",
      "Ignoring wrong pointing object 960 0 (offset 3573611)\n",
      "Ignoring wrong pointing object 961 0 (offset 3573658)\n",
      "Ignoring wrong pointing object 962 0 (offset 3573705)\n",
      "Ignoring wrong pointing object 963 0 (offset 3573796)\n",
      "Ignoring wrong pointing object 964 0 (offset 3573858)\n",
      "Ignoring wrong pointing object 965 0 (offset 3573927)\n",
      "Ignoring wrong pointing object 966 0 (offset 3573996)\n",
      "Ignoring wrong pointing object 967 0 (offset 3574043)\n",
      "Ignoring wrong pointing object 968 0 (offset 3574090)\n",
      "Ignoring wrong pointing object 969 0 (offset 3574181)\n",
      "Ignoring wrong pointing object 970 0 (offset 3574243)\n",
      "Ignoring wrong pointing object 971 0 (offset 3574312)\n",
      "Ignoring wrong pointing object 972 0 (offset 3574379)\n",
      "Ignoring wrong pointing object 973 0 (offset 3574426)\n",
      "Ignoring wrong pointing object 974 0 (offset 3574473)\n",
      "Ignoring wrong pointing object 975 0 (offset 3574564)\n",
      "Ignoring wrong pointing object 976 0 (offset 3574626)\n",
      "Ignoring wrong pointing object 977 0 (offset 3574695)\n",
      "Ignoring wrong pointing object 978 0 (offset 3574764)\n",
      "Ignoring wrong pointing object 979 0 (offset 3574811)\n",
      "Ignoring wrong pointing object 980 0 (offset 3574858)\n",
      "Ignoring wrong pointing object 981 0 (offset 3574949)\n",
      "Ignoring wrong pointing object 982 0 (offset 3575011)\n",
      "Ignoring wrong pointing object 983 0 (offset 3575080)\n",
      "Ignoring wrong pointing object 984 0 (offset 3575149)\n",
      "Ignoring wrong pointing object 985 0 (offset 3575196)\n",
      "Ignoring wrong pointing object 986 0 (offset 3575243)\n",
      "Ignoring wrong pointing object 987 0 (offset 3575334)\n",
      "Ignoring wrong pointing object 988 0 (offset 3575396)\n",
      "Ignoring wrong pointing object 989 0 (offset 3575465)\n",
      "Ignoring wrong pointing object 990 0 (offset 3575532)\n",
      "Ignoring wrong pointing object 991 0 (offset 3575579)\n",
      "Ignoring wrong pointing object 992 0 (offset 3575626)\n",
      "Ignoring wrong pointing object 993 0 (offset 3575717)\n",
      "Ignoring wrong pointing object 994 0 (offset 3575779)\n",
      "Ignoring wrong pointing object 995 0 (offset 3575848)\n",
      "Ignoring wrong pointing object 996 0 (offset 3575917)\n",
      "Ignoring wrong pointing object 997 0 (offset 3575964)\n",
      "Ignoring wrong pointing object 998 0 (offset 3576011)\n",
      "Ignoring wrong pointing object 999 0 (offset 3576102)\n",
      "Ignoring wrong pointing object 1000 0 (offset 3576165)\n",
      "Ignoring wrong pointing object 1001 0 (offset 3576236)\n",
      "Ignoring wrong pointing object 1002 0 (offset 3576306)\n",
      "Ignoring wrong pointing object 1003 0 (offset 3576369)\n",
      "Ignoring wrong pointing object 1004 0 (offset 3576439)\n",
      "Ignoring wrong pointing object 1005 0 (offset 3576489)\n",
      "Ignoring wrong pointing object 1006 0 (offset 3576539)\n",
      "Ignoring wrong pointing object 1007 0 (offset 3576606)\n",
      "Ignoring wrong pointing object 1008 0 (offset 3576678)\n",
      "Ignoring wrong pointing object 1009 0 (offset 3576748)\n",
      "Ignoring wrong pointing object 1010 0 (offset 3576808)\n",
      "Ignoring wrong pointing object 1011 0 (offset 3576997)\n",
      "Ignoring wrong pointing object 1012 0 (offset 3577057)\n",
      "Ignoring wrong pointing object 1013 0 (offset 3577117)\n",
      "Ignoring wrong pointing object 1014 0 (offset 3577177)\n",
      "Ignoring wrong pointing object 1015 0 (offset 3577237)\n",
      "Ignoring wrong pointing object 1016 0 (offset 3577297)\n",
      "Ignoring wrong pointing object 1017 0 (offset 3577357)\n",
      "Ignoring wrong pointing object 1018 0 (offset 3577417)\n",
      "Ignoring wrong pointing object 1019 0 (offset 3577477)\n",
      "Ignoring wrong pointing object 1020 0 (offset 3577537)\n",
      "Ignoring wrong pointing object 1021 0 (offset 3577597)\n",
      "Ignoring wrong pointing object 1022 0 (offset 3577657)\n",
      "Ignoring wrong pointing object 1023 0 (offset 3577717)\n",
      "Ignoring wrong pointing object 1024 0 (offset 3577777)\n",
      "Ignoring wrong pointing object 1025 0 (offset 3577837)\n",
      "Ignoring wrong pointing object 1026 0 (offset 3577897)\n",
      "Ignoring wrong pointing object 1027 0 (offset 3577957)\n",
      "Ignoring wrong pointing object 1028 0 (offset 3578007)\n",
      "Ignoring wrong pointing object 1029 0 (offset 3578057)\n",
      "Ignoring wrong pointing object 1030 0 (offset 3578151)\n",
      "Ignoring wrong pointing object 1031 0 (offset 3578755)\n",
      "Ignoring wrong pointing object 1032 0 (offset 3593897)\n",
      "Ignoring wrong pointing object 1033 0 (offset 3594004)\n",
      "Ignoring wrong pointing object 1034 0 (offset 4283989)\n",
      "Ignoring wrong pointing object 1035 0 (offset 4701730)\n",
      "Ignoring wrong pointing object 1036 0 (offset 4942657)\n",
      "Ignoring wrong pointing object 1037 0 (offset 4942710)\n",
      "Ignoring wrong pointing object 1038 0 (offset 4943177)\n",
      "Ignoring wrong pointing object 1039 0 (offset 4943218)\n",
      "Ignoring wrong pointing object 1040 0 (offset 4954316)\n",
      "Ignoring wrong pointing object 1041 0 (offset 4955132)\n",
      "Ignoring wrong pointing object 1042 0 (offset 4955812)\n",
      "Ignoring wrong pointing object 1043 0 (offset 4956429)\n",
      "Ignoring wrong pointing object 1044 0 (offset 4957051)\n",
      "Ignoring wrong pointing object 1045 0 (offset 4970775)\n",
      "Ignoring wrong pointing object 1046 0 (offset 5104873)\n",
      "Ignoring wrong pointing object 1047 0 (offset 5251171)\n",
      "Ignoring wrong pointing object 1048 0 (offset 5298841)\n",
      "Ignoring wrong pointing object 1049 0 (offset 5365727)\n",
      "Ignoring wrong pointing object 1050 0 (offset 5365768)\n",
      "Ignoring wrong pointing object 1051 0 (offset 5379117)\n",
      "Ignoring wrong pointing object 1052 0 (offset 5392294)\n",
      "Ignoring wrong pointing object 1053 0 (offset 6175020)\n",
      "Ignoring wrong pointing object 1054 0 (offset 6427684)\n",
      "Ignoring wrong pointing object 1055 0 (offset 6700805)\n",
      "Ignoring wrong pointing object 1056 0 (offset 6700846)\n",
      "Ignoring wrong pointing object 1057 0 (offset 6718382)\n",
      "Ignoring wrong pointing object 1058 0 (offset 6733311)\n",
      "Ignoring wrong pointing object 1059 0 (offset 6837776)\n",
      "Ignoring wrong pointing object 1060 0 (offset 6987039)\n",
      "Ignoring wrong pointing object 1061 0 (offset 7023194)\n",
      "Ignoring wrong pointing object 1062 0 (offset 7101305)\n",
      "Ignoring wrong pointing object 1063 0 (offset 7101358)\n",
      "Ignoring wrong pointing object 1064 0 (offset 7101830)\n",
      "Ignoring wrong pointing object 1065 0 (offset 7101871)\n",
      "Ignoring wrong pointing object 1066 0 (offset 7121244)\n",
      "Ignoring wrong pointing object 1067 0 (offset 7135619)\n",
      "Ignoring wrong pointing object 1068 0 (offset 7135891)\n",
      "Ignoring wrong pointing object 1069 0 (offset 7140236)\n",
      "Ignoring wrong pointing object 1070 0 (offset 7152968)\n",
      "Ignoring wrong pointing object 1071 0 (offset 7169689)\n",
      "Ignoring wrong pointing object 1072 0 (offset 7183684)\n",
      "Ignoring wrong pointing object 1073 0 (offset 7186333)\n",
      "Ignoring wrong pointing object 1074 0 (offset 7196158)\n",
      "Ignoring wrong pointing object 1075 0 (offset 7200353)\n",
      "Ignoring wrong pointing object 1076 0 (offset 7303303)\n",
      "Ignoring wrong pointing object 1077 0 (offset 7311607)\n",
      "Ignoring wrong pointing object 1078 0 (offset 7322244)\n",
      "Ignoring wrong pointing object 1079 0 (offset 7332201)\n",
      "Object 1032 0 not defined.\n",
      "Object 664 0 not defined.\n",
      " impossible to decode XFormObject /Im1\n",
      "Object 665 0 not defined.\n",
      " impossible to decode XFormObject /Im2\n",
      "Object 666 0 not defined.\n",
      " impossible to decode XFormObject /Im3\n",
      "C:\\Users\\서종호\\AppData\\Local\\Temp\\ipykernel_24136\\4135086403.py:29: LangChainDeprecationWarning: Since Chroma 0.4.x the manual persistence method is no longer supported as docs are automatically persisted.\n",
      "  vectorstore.persist()\n"
     ]
    },
    {
     "name": "stdout",
     "output_type": "stream",
     "text": [
      "Vector store saved for model: KGB_렉스턴\n",
      "Vector store saved for model: KGB_코란도\n",
      "Vector store saved for model: KGB_토레스\n",
      "Vector store saved for model: KGB_티볼리에어\n",
      "Vector store saved for model: 기아_K3\n",
      "Vector store saved for model: 기아_K5\n",
      "Vector store saved for model: 기아_니로\n",
      "Vector store saved for model: 기아_레이\n",
      "Vector store saved for model: 기아_모닝\n",
      "Vector store saved for model: 기아_셀토스\n",
      "Vector store saved for model: 르노_SM6\n",
      "Vector store saved for model: 르노_아르카나\n",
      "Vector store saved for model: 쉐보레_트레일블라이저\n",
      "Vector store saved for model: 쉐보레_트렉스크로스오버\n",
      "Vector store saved for model: 현대_베뉴\n",
      "Vector store saved for model: 현대_아반떼\n",
      "Vector store saved for model: 현대_아반떼N\n",
      "Vector store saved for model: 현대_케스퍼\n",
      "Vector store saved for model: 현대_코나\n"
     ]
    }
   ],
   "source": [
    "base_directory = \"C:\\SKN02-4th-4Team\\자동차 pdf\"\n",
    "process_pdfs_in_folders(base_directory)"
   ]
  },
  {
   "cell_type": "code",
   "execution_count": null,
   "metadata": {},
   "outputs": [],
   "source": []
  },
  {
   "cell_type": "code",
   "execution_count": 22,
   "metadata": {},
   "outputs": [],
   "source": [
    "vectorstore_렉스턴 =Chroma(persist_directory=\"./KGB_렉스턴_chroma\", embedding_function=hf)\n",
    "vectorstore_k3 =Chroma(persist_directory=\"./기아_K3_chroma\", embedding_function=hf)\n",
    "vectorstore_sm6 =Chroma(persist_directory=\"./르노_SM6_chroma\", embedding_function=hf)\n"
   ]
  },
  {
   "cell_type": "code",
   "execution_count": 40,
   "metadata": {},
   "outputs": [],
   "source": [
    "vectorstore_모닝 =Chroma(persist_directory=\"./기아_모닝_chroma\", embedding_function=hf)\n"
   ]
  },
  {
   "cell_type": "code",
   "execution_count": 41,
   "metadata": {},
   "outputs": [
    {
     "data": {
      "text/plain": [
       "[Document(metadata={'page': 39, 'source': 'C:\\\\SKN02-4th-4Team\\\\자동차 pdf\\\\기아_모닝\\\\99D0864D5EE9C8BF2D.pdf'}, page_content=''),\n",
       " Document(metadata={'page': 481, 'source': 'C:\\\\SKN02-4th-4Team\\\\자동차 pdf\\\\기아_모닝\\\\99D0864D5EE9C8BF2D.pdf'}, page_content=''),\n",
       " Document(metadata={'page': 37, 'source': 'C:\\\\SKN02-4th-4Team\\\\자동차 pdf\\\\기아_모닝\\\\99D0864D5EE9C8BF2D.pdf'}, page_content=''),\n",
       " Document(metadata={'page': 110, 'source': 'C:\\\\SKN02-4th-4Team\\\\자동차 pdf\\\\기아_모닝\\\\99D0864D5EE9C8BF2D.pdf'}, page_content='')]"
      ]
     },
     "execution_count": 41,
     "metadata": {},
     "output_type": "execute_result"
    }
   ],
   "source": [
    "retriever_ahsld = vectorstore_모닝.as_retriever()\n",
    "retriever_ahsld.get_relevant_documents('안전벨트')"
   ]
  },
  {
   "cell_type": "code",
   "execution_count": 23,
   "metadata": {},
   "outputs": [],
   "source": [
    "retriever_렉스턴 = vectorstore_렉스턴.as_retriever()\n",
    "retriever_k3 = vectorstore_k3.as_retriever()"
   ]
  },
  {
   "cell_type": "code",
   "execution_count": 39,
   "metadata": {},
   "outputs": [
    {
     "data": {
      "text/plain": [
       "[Document(metadata={'page': 469, 'source': 'C:\\\\SKN02-4th-4Team\\\\자동차 pdf\\\\기아_K3\\\\K3_사용설명서.pdf'}, page_content=''),\n",
       " Document(metadata={'page': 449, 'source': 'C:\\\\SKN02-4th-4Team\\\\자동차 pdf\\\\기아_K3\\\\K3_사용설명서.pdf'}, page_content=''),\n",
       " Document(metadata={'page': 461, 'source': 'C:\\\\SKN02-4th-4Team\\\\자동차 pdf\\\\기아_K3\\\\K3_사용설명서.pdf'}, page_content=''),\n",
       " Document(metadata={'page': 3, 'source': 'C:\\\\SKN02-4th-4Team\\\\자동차 pdf\\\\기아_K3\\\\K3_사용설명서.pdf'}, page_content='')]"
      ]
     },
     "execution_count": 39,
     "metadata": {},
     "output_type": "execute_result"
    }
   ],
   "source": [
    "retriever_k3.get_relevant_documents('안전벨트')"
   ]
  },
  {
   "cell_type": "code",
   "execution_count": 24,
   "metadata": {},
   "outputs": [
    {
     "data": {
      "text/plain": [
       "[Document(metadata={'page': 28, 'source': 'C:\\\\SKN02-4th-4Team\\\\자동차 pdf\\\\쉐보레_트레일블라이저\\\\02-seats-restraints.pdf'}, page_content='시트, 안전 시스템 83\\n하단 고정 장치\\n보조시트  하단부를  고정하기  위한 고리\\n의 횡방향  위치는  시트에  동그란  버튼\\n모양으로  표시되어  있으며 , 버튼 아래\\n의 시트 쿠션 커버의  슬릿을  젖히면  보\\n조시트  하단부를  고정할  수 있는 고리\\n가 보입니다 .상단 고정 장치\\n보조시트  상단부를  고정하기  위한 고리\\n가 뒷좌석  등받이  뒤에 있습니다 .\\n반드시  어린이  보조 시트가  설치되는\\n착석 위치와  동일한  위치에  있는 고정\\n장치를  사용하십시오 . 어린이용  보조시\\n트를 상단 고정장치가  없는 위치에  고\\n정하지  마십시오 .보조시트  고정 방법\\n고정장치를  사용하는  방법은  다음과  같\\n습니다 . 자세한  설치방법  등은 어린이\\n보조시트  제조사의  메뉴얼을  참고하십\\n시오.\\n1.어린이  보조 시트를  고정할  뒷좌석\\n시트를  선택합니다 .\\n2.동그란  버튼 아래의  쿠션 슬릿을  좌\\n우로 벌려 손을 넣고 하단 고리의\\n위치를  확인하십시오 .\\n3.하단 고정장치  근처에  장착 시 방해\\n가 될 수 있는 물건들을  치우십시\\n오.\\n4.어린이  보조 시트를  설치하고자  하\\n는 뒷좌석  시트에  올려놓고  간섭이\\n있는지  확인합니다 . 앞좌석과  간섭\\n이 있을 경우 앞좌석  위치를  조절하\\n십시오 .\\n'),\n",
       " Document(metadata={'page': 28, 'source': 'C:\\\\SKN02-4th-4Team\\\\자동차 pdf\\\\쉐보레_트레일블라이저\\\\06-infotainment-system.pdf'}, page_content='인포테인먼트  시스템 195\\n초기 설정으로  복원\\n설정 (Settings) 메뉴에서  차량 설정 항\\n목을 선택하여  해당 메뉴로  진입한  후,\\n초기 설정으로  복원 메뉴를  선택합니\\n다.\\n•모든 설정값을  초기화함\\n소프트웨어  정보\\n설정 (Settings) 메뉴에서  차량 설정 항\\n목을 선택하여  해당 메뉴로  진입한  후,\\n소프트웨어  정보 메뉴를  선택합니다 .\\n•현재 업데이트된  소프트웨어  정보\\n를 표시함발렛 모드\\n시크릿  보관함 , 트렁크  및 스티어링  휠\\n의 오디오  조절 장치가  잠겨 오디오  등\\n차량 설정이  일부 제한되어  발렛 파킹\\n과 같은 타인 운전시  차량 접근을  최소\\n화하여  개인 프라이버시를  유지할  수\\n있게 합니다 .\\n발렛 모드 활성화하려면  조정 TUNE  조\\n절기를  이용하여  4자리 숫자 코드를  입\\n력한 후, 확인을  선택 > 4자리 숫자 코\\n드를 다시 합니다 .\\n시스템을  잠그거나  잠금을  해제하려면\\n\"잠금\" 또는 \"잠금해제 \"를 선택합니다 .전화\\n블루투스\\n블루투스  기술 \\n블루투스 (Bluetooth) 는 근거리  무선 네\\n트워킹  기술을  말하며 , 2.4GHz 주파수\\n를 이용하여  일정 거리 안에서  각종 장\\n치를 무선으로  연결시킵니다 .\\nPC, 외부 장치, 블루투스  전화, PDA, 다\\n양한 전자 장치, 그리고  자동차  환경에\\n서 지원되는  블루투스  무선 기술은  커\\n넥터 케이블을  사용하지  않고 고속으로\\n데이터를  전송합니다 .\\n블루투스  기능은  블루투스  장치가  인포\\n테인먼트  시스템과  무선상으로  등록 및\\n연결이  되어 있는 상태에서  사용이  가\\n능합니다 .\\n블루투스  핸즈프리는  사용자가  편리하\\n게 멀티미디어  시스템을  통해 블루투스\\n휴대 전화로  전화를  거는 것을 허용하\\n는 장치를  말합니다 .'),\n",
       " Document(metadata={'page': 15, 'source': 'C:\\\\SKN02-4th-4Team\\\\자동차 pdf\\\\쉐보레_트레일블라이저\\\\02-seats-restraints.pdf'}, page_content='70시트, 안전 시스템  \\n3점식 안전벨트\\n착용\\n릴에서  안전벨트를  당겨서  꼬이지  않게\\n착용하십시오 . 어깨벨트는  어깨에서  반\\n대쪽 골반까지  상체를  가로질러  착용하\\n고 복부벨트는  골반을  편안하게  감싸주\\n도록 복부 아래쪽에  착용하십시오 .\\n복부에  착용할  경우 사고 시 장파열  등\\n심각한  부상을  입을 수 있습니다 .느슨하거나  부피가  큰 옷은 벨트의  편\\n안한 착용을  방해합니다 . 가방이나  핸\\n드폰 등과 같은 물체가  벨트와  신체 사\\n이에 놓이지  않도록  하십시오 .\\n안전 벨트 높이 조절 장치를  이용하여\\n안전 벨트 높이를  알맞게  조절하십시\\n오.\\n{경고\\n벨트는  착용자의  옷 주머니  속에 있\\n는 단단하거나  깨지기  쉬운 물체 위\\n에 놓여서는  안됩니다 .'),\n",
       " Document(metadata={'page': 16, 'source': 'C:\\\\SKN02-4th-4Team\\\\자동차 pdf\\\\쉐보레_트레일블라이저\\\\02-seats-restraints.pdf'}, page_content='시트, 안전 시스템 71\\n안전 벨트 높이 조절 장치\\n앞좌석에는  안전 벨트 높이 조절 장치\\n가 장착되어  있습니다 .\\n1.버튼을  누르십시오 .\\n2.높이를  조절한  후 확실히  고정시키\\n십시오 .\\n높이를  조절하여  벨트가  어깨를  가로지\\n르도록  하십시오 . 벨트가  목이나  상박\\n부를 가로지르면  안 됩니다 .\\n운전중에는  높이를  조절하지  마십시오 .제거\\n안전벨트를  풀려면  버클의  적색 버튼을\\n누르십시오 .버클을  풀고 안전벨트를  되감을  경우\\n천천히  되감아  주십시오 . 벨트가  빨리\\n되감아  질 경우 벨트가  잠길 수 있습니\\n다. 이때는  벨트를  똑바로  세게 잡아 당\\n겨 잠김을  해제한  후 벨트를  놓으십시\\n오.\\n위 방법으로도  벨트가  여전히  잠겨있을\\n경우 당사 정비망에  문의하십시오 .\\n주의\\n도어를  닫기 전에 안전벨트가  도어\\n밖으로  나와 있는지  확인하십시오 .\\n도어가  안전 벨트에  세게 부딪치면\\n안전 벨트와  차량이  모두 손상될  수\\n있습니다 .\\n')]"
      ]
     },
     "execution_count": 24,
     "metadata": {},
     "output_type": "execute_result"
    }
   ],
   "source": [
    "vectorstore_트레블 =Chroma(persist_directory=\"./쉐보레_트레일블라이저_chroma\", embedding_function=hf)\n",
    "retriever_트레블 = vectorstore_트레블.as_retriever()\n",
    "retriever_트레블.get_relevant_documents(\"편의장치\")"
   ]
  },
  {
   "cell_type": "code",
   "execution_count": 42,
   "metadata": {},
   "outputs": [
    {
     "data": {
      "text/plain": [
       "[Document(metadata={'page': 28, 'source': 'C:\\\\SKN02-4th-4Team\\\\자동차 pdf\\\\쉐보레_트레일블라이저\\\\02-seats-restraints.pdf'}, page_content='시트, 안전 시스템 83\\n하단 고정 장치\\n보조시트  하단부를  고정하기  위한 고리\\n의 횡방향  위치는  시트에  동그란  버튼\\n모양으로  표시되어  있으며 , 버튼 아래\\n의 시트 쿠션 커버의  슬릿을  젖히면  보\\n조시트  하단부를  고정할  수 있는 고리\\n가 보입니다 .상단 고정 장치\\n보조시트  상단부를  고정하기  위한 고리\\n가 뒷좌석  등받이  뒤에 있습니다 .\\n반드시  어린이  보조 시트가  설치되는\\n착석 위치와  동일한  위치에  있는 고정\\n장치를  사용하십시오 . 어린이용  보조시\\n트를 상단 고정장치가  없는 위치에  고\\n정하지  마십시오 .보조시트  고정 방법\\n고정장치를  사용하는  방법은  다음과  같\\n습니다 . 자세한  설치방법  등은 어린이\\n보조시트  제조사의  메뉴얼을  참고하십\\n시오.\\n1.어린이  보조 시트를  고정할  뒷좌석\\n시트를  선택합니다 .\\n2.동그란  버튼 아래의  쿠션 슬릿을  좌\\n우로 벌려 손을 넣고 하단 고리의\\n위치를  확인하십시오 .\\n3.하단 고정장치  근처에  장착 시 방해\\n가 될 수 있는 물건들을  치우십시\\n오.\\n4.어린이  보조 시트를  설치하고자  하\\n는 뒷좌석  시트에  올려놓고  간섭이\\n있는지  확인합니다 . 앞좌석과  간섭\\n이 있을 경우 앞좌석  위치를  조절하\\n십시오 .\\n'),\n",
       " Document(metadata={'page': 28, 'source': 'C:\\\\SKN02-4th-4Team\\\\자동차 pdf\\\\쉐보레_트레일블라이저\\\\06-infotainment-system.pdf'}, page_content='인포테인먼트  시스템 195\\n초기 설정으로  복원\\n설정 (Settings) 메뉴에서  차량 설정 항\\n목을 선택하여  해당 메뉴로  진입한  후,\\n초기 설정으로  복원 메뉴를  선택합니\\n다.\\n•모든 설정값을  초기화함\\n소프트웨어  정보\\n설정 (Settings) 메뉴에서  차량 설정 항\\n목을 선택하여  해당 메뉴로  진입한  후,\\n소프트웨어  정보 메뉴를  선택합니다 .\\n•현재 업데이트된  소프트웨어  정보\\n를 표시함발렛 모드\\n시크릿  보관함 , 트렁크  및 스티어링  휠\\n의 오디오  조절 장치가  잠겨 오디오  등\\n차량 설정이  일부 제한되어  발렛 파킹\\n과 같은 타인 운전시  차량 접근을  최소\\n화하여  개인 프라이버시를  유지할  수\\n있게 합니다 .\\n발렛 모드 활성화하려면  조정 TUNE  조\\n절기를  이용하여  4자리 숫자 코드를  입\\n력한 후, 확인을  선택 > 4자리 숫자 코\\n드를 다시 합니다 .\\n시스템을  잠그거나  잠금을  해제하려면\\n\"잠금\" 또는 \"잠금해제 \"를 선택합니다 .전화\\n블루투스\\n블루투스  기술 \\n블루투스 (Bluetooth) 는 근거리  무선 네\\n트워킹  기술을  말하며 , 2.4GHz 주파수\\n를 이용하여  일정 거리 안에서  각종 장\\n치를 무선으로  연결시킵니다 .\\nPC, 외부 장치, 블루투스  전화, PDA, 다\\n양한 전자 장치, 그리고  자동차  환경에\\n서 지원되는  블루투스  무선 기술은  커\\n넥터 케이블을  사용하지  않고 고속으로\\n데이터를  전송합니다 .\\n블루투스  기능은  블루투스  장치가  인포\\n테인먼트  시스템과  무선상으로  등록 및\\n연결이  되어 있는 상태에서  사용이  가\\n능합니다 .\\n블루투스  핸즈프리는  사용자가  편리하\\n게 멀티미디어  시스템을  통해 블루투스\\n휴대 전화로  전화를  거는 것을 허용하\\n는 장치를  말합니다 .'),\n",
       " Document(metadata={'page': 15, 'source': 'C:\\\\SKN02-4th-4Team\\\\자동차 pdf\\\\쉐보레_트레일블라이저\\\\02-seats-restraints.pdf'}, page_content='70시트, 안전 시스템  \\n3점식 안전벨트\\n착용\\n릴에서  안전벨트를  당겨서  꼬이지  않게\\n착용하십시오 . 어깨벨트는  어깨에서  반\\n대쪽 골반까지  상체를  가로질러  착용하\\n고 복부벨트는  골반을  편안하게  감싸주\\n도록 복부 아래쪽에  착용하십시오 .\\n복부에  착용할  경우 사고 시 장파열  등\\n심각한  부상을  입을 수 있습니다 .느슨하거나  부피가  큰 옷은 벨트의  편\\n안한 착용을  방해합니다 . 가방이나  핸\\n드폰 등과 같은 물체가  벨트와  신체 사\\n이에 놓이지  않도록  하십시오 .\\n안전 벨트 높이 조절 장치를  이용하여\\n안전 벨트 높이를  알맞게  조절하십시\\n오.\\n{경고\\n벨트는  착용자의  옷 주머니  속에 있\\n는 단단하거나  깨지기  쉬운 물체 위\\n에 놓여서는  안됩니다 .'),\n",
       " Document(metadata={'page': 16, 'source': 'C:\\\\SKN02-4th-4Team\\\\자동차 pdf\\\\쉐보레_트레일블라이저\\\\02-seats-restraints.pdf'}, page_content='시트, 안전 시스템 71\\n안전 벨트 높이 조절 장치\\n앞좌석에는  안전 벨트 높이 조절 장치\\n가 장착되어  있습니다 .\\n1.버튼을  누르십시오 .\\n2.높이를  조절한  후 확실히  고정시키\\n십시오 .\\n높이를  조절하여  벨트가  어깨를  가로지\\n르도록  하십시오 . 벨트가  목이나  상박\\n부를 가로지르면  안 됩니다 .\\n운전중에는  높이를  조절하지  마십시오 .제거\\n안전벨트를  풀려면  버클의  적색 버튼을\\n누르십시오 .버클을  풀고 안전벨트를  되감을  경우\\n천천히  되감아  주십시오 . 벨트가  빨리\\n되감아  질 경우 벨트가  잠길 수 있습니\\n다. 이때는  벨트를  똑바로  세게 잡아 당\\n겨 잠김을  해제한  후 벨트를  놓으십시\\n오.\\n위 방법으로도  벨트가  여전히  잠겨있을\\n경우 당사 정비망에  문의하십시오 .\\n주의\\n도어를  닫기 전에 안전벨트가  도어\\n밖으로  나와 있는지  확인하십시오 .\\n도어가  안전 벨트에  세게 부딪치면\\n안전 벨트와  차량이  모두 손상될  수\\n있습니다 .\\n')]"
      ]
     },
     "execution_count": 42,
     "metadata": {},
     "output_type": "execute_result"
    }
   ],
   "source": [
    "retriever_트레블.get_relevant_documents(\"편의장치\")"
   ]
  },
  {
   "cell_type": "code",
   "execution_count": 38,
   "metadata": {},
   "outputs": [
    {
     "data": {
      "text/plain": [
       "[Document(metadata={'page': 6, 'source': 'C:\\\\SKN02-4th-4Team\\\\자동차 pdf\\\\현대_베뉴\\\\202406041717481715269.pdf'}, page_content='3-7\\n031.  뒷좌석을 접을 때 간섭이 생기지 않도록 앞좌석 등\\n받이를 바로 세우십시오.\\n2.  뒷좌석 헤드레스트 잠금해제버튼을 눌러 뒷좌석 헤\\n드레스트를 최대한 아래로 내리십시오. \\n3. 접었을 때 양옆의 3점식 안전벨트가 적재화물과 간\\n섭이 발생되지 않도록 양옆으로 위치 시키십시오. 경 고\\n •포켓에 날카로운 물건을 넣어두면 급정차나 사고 시 \\n뒷좌석 탑승자가 심하게 다칠 수 있으므로 주의하십\\n시오.\\n •동승석 등받이에 매달리지 마십시오. 승객 구분 시스\\n템 (OCS: Occupant Classification System) 이 오작\\n동 할 수 있습니다.\\n ̰뒷좌석\\n좌석 접는 방법\\n좌석 접이 레버를 잡아 당겨 등받이를 앞으로 접으면 좌\\n석 공간을 적재공간으로 넓게 사용할 수 있습니다.다시 좌석으로 사용하고자 할 때는 등받이를 딸깍하고 걸릴때까지 위로 올려 바로 세우십시오.좌석으로 사용할 때는 반드시 헤드레스트와 안전벨트를 제위치에 놓고 사용하십시오.\\n 경 고\\n•  좌석을 접고 펼때는 항상 차량 정지상태에서 조작하\\n십시오. 운행 중에는 좌석을 조절하지 마십시오.\\n•  뒷좌석을 접어놓은 뒤 화물 공간에 탑승자가 탑승하\\n거나 화물칸에 탑승하는 것은 매우 위험합니다.\\n•  화물을 적재하는 경우 앞좌석 높이 이상으로 적재하\\n지 말고, 움직일 수 있는 화물은 고정시켜 앞으로 밀리지 않도록 하십시오. 그렇지 않으면 차량 탑승자가 화물에 의해 다칠 수 있습니다.\\n•  좌석을 접고 펼때는 항상 안전벨트에 손상이 가지 \\n않도록 주의하십시오.\\n•  좌석을 원위치로 돌리고 나면 항상 좌석이 고정되어 \\n있는지 앞 ・ 뒤로 흔들어 확인 하신 후 헤드레스트와 \\n안전벨트를 제 위치에 놓고 사용하십시오.\\n•  좌석 조작 시 손이나 발이 끼지 않도록 주의하십시오.\\nOQX039012L\\nOQX039013L')]"
      ]
     },
     "execution_count": 38,
     "metadata": {},
     "output_type": "execute_result"
    }
   ],
   "source": [
    "vectorstore_베뉴 =Chroma(persist_directory=\"./현대_베뉴_chroma\", embedding_function=hf)\n",
    "retriever_베뉴 = vectorstore_베뉴.as_retriever(search_kwargs={'k':1})\n",
    "retriever_베뉴.get_relevant_documents(\"뒷좌석을 어떻게접어야해\")"
   ]
  },
  {
   "cell_type": "code",
   "execution_count": 26,
   "metadata": {},
   "outputs": [],
   "source": [
    "from langchain_community.chat_models import ChatOllama\n",
    "llm = ChatOllama(model=\"llama3.1:8b\",temperature=0)"
   ]
  },
  {
   "cell_type": "code",
   "execution_count": null,
   "metadata": {},
   "outputs": [],
   "source": []
  },
  {
   "cell_type": "code",
   "execution_count": 27,
   "metadata": {},
   "outputs": [],
   "source": [
    "from langchain_core.runnables import chain"
   ]
  },
  {
   "cell_type": "code",
   "execution_count": 28,
   "metadata": {},
   "outputs": [],
   "source": [
    "from typing import List, Optional\n",
    "\n",
    "from langchain_core.pydantic_v1 import BaseModel, Field\n",
    "\n",
    "\n",
    "class Search(BaseModel):\n",
    "    \"\"\" 차종 종류에 대해서 \"\"\"\n",
    "\n",
    "    query: str = Field(\n",
    "        ...,\n",
    "        description=\"Query to look up\",\n",
    "    )\n",
    "    category: str = Field(\n",
    "        ...,\n",
    "        description=\"자동차 모델 분류. Should be `베뉴` or `렉스턴`.\",\n",
    "    )"
   ]
  },
  {
   "cell_type": "code",
   "execution_count": 29,
   "metadata": {},
   "outputs": [
    {
     "ename": "SyntaxError",
     "evalue": "invalid syntax (3547287192.py, line 12)",
     "output_type": "error",
     "traceback": [
      "\u001b[1;36m  Cell \u001b[1;32mIn[29], line 12\u001b[1;36m\u001b[0m\n\u001b[1;33m    sturct_llm= llm.\u001b[0m\n\u001b[1;37m                    ^\u001b[0m\n\u001b[1;31mSyntaxError\u001b[0m\u001b[1;31m:\u001b[0m invalid syntax\n"
     ]
    }
   ],
   "source": [
    "from langchain_core.prompts import ChatPromptTemplate\n",
    "from langchain_core.runnables import RunnablePassthrough\n",
    "\n",
    "\n",
    "system = \"\"\"You have the ability to issue search queries to get information to help answer car model information.\"\"\"\n",
    "prompt = ChatPromptTemplate.from_messages(\n",
    "    [\n",
    "        (\"system\", system),\n",
    "        (\"human\", \"{question}\"),\n",
    "    ]\n",
    ")\n",
    "sturct_llm= llm.\n",
    "query_analyzer = {\"question\": RunnablePassthrough()} | prompt | llm"
   ]
  },
  {
   "cell_type": "code",
   "execution_count": 30,
   "metadata": {},
   "outputs": [],
   "source": [
    "retriever_mapping = {\n",
    "    \"베뉴\": retriever_베뉴,\n",
    "    \"렉스턴\": retriever_렉스턴,\n",
    "}"
   ]
  },
  {
   "cell_type": "code",
   "execution_count": 31,
   "metadata": {},
   "outputs": [],
   "source": [
    "from langchain.prompts import (\n",
    "    ChatPromptTemplate,\n",
    "    SystemMessagePromptTemplate,\n",
    "    HumanMessagePromptTemplate,\n",
    ")\n",
    "from langchain.memory import ConversationBufferMemory\n",
    "from langchain.chains import ConversationalRetrievalChain"
   ]
  },
  {
   "cell_type": "code",
   "execution_count": 32,
   "metadata": {},
   "outputs": [],
   "source": [
    "\n",
    "# 질문 분류 함수: 렉스턴 또는 베뉴로 질문을 분류\n",
    "def classify_question(question: str) -> str:\n",
    "    if \"렉스턴\" in question:\n",
    "        return \"렉스턴\"\n",
    "    elif \"베뉴\" in question:\n",
    "        return \"베뉴\"\n",
    "    else :\n",
    "        return \"베뉴\"\n",
    "\n",
    "\n",
    "# 질문에 맞는 리트리버 선택 함수\n",
    "def get_retriever_for_question(question: str):\n",
    "    category = classify_question(question)\n",
    "    return retriever_mapping.get(category, retriever_mapping[\"베뉴\"])  # 기본 리트리버 제공\n",
    "\n",
    "# RAG 파이프라인에서 질문에 맞는 리트리버로 검색 수행\n",
    "def process_question(question: str,llm):\n",
    "    selected_retriever = get_retriever_for_question(question)  # 차종에 맞는 리트리버 선택\n",
    "     # 선택된 리트리버로 문서 검색\n",
    "   # Prompt\n",
    "    prompt = ChatPromptTemplate(\n",
    "        messages=[\n",
    "            SystemMessagePromptTemplate.from_template(\n",
    "                        \"\"\"\n",
    "                    너는 친절하고 기억력이 좋은 챗봇이며, 사용자의 질문에 정확하고 일관성 있게 답변할 수 있는 능력을 갖추고 있습니다. 다음 지침에 따라 질문에 답하십시오:\n",
    "\n",
    "\n",
    "                    정보 누락 시 대처:\n",
    "                        - 만약 필요한 정보를 찾지 못하거나 검색 결과가 충분하지 않다면, 사용자에게 해당 정보를 제공할 수 없음을 알리고, 구체적인 추가 정보를 요청하십시오.\n",
    "\n",
    "                    답을 모를 경우:\n",
    "                        - \"모릅니다\"라고만 답하고, 답을 지어내지 마십시오. 모르는 것은 반드시 \"모릅니다\"라고 답해야 합니다.\n",
    "                    \n",
    "                    현재 대화내용 : {chat_history}\n",
    "                    이전 대화의 맥락을 참고하여 질문에 정확하고 일관성 있는 답변을 제공하십시오.\n",
    "                    이전 대화가 없다면 다시 질문을 해달라고 요청하십시오.\n",
    "\n",
    "                    다음은 실제로 사용자에게 보여질 답변입니다:\n",
    "                \n",
    "                    {context}를 활용해서 대답하십시오.\n",
    "                \"\"\"\n",
    "            ),\n",
    "            HumanMessagePromptTemplate.from_template(\"{question}\"),\n",
    "        ]\n",
    "    )\n",
    "\n",
    "    memory = ConversationBufferMemory(memory_key=\"chat_history\", return_messages=True)\n",
    "    qa = ConversationalRetrievalChain.from_llm(llm, retriever=selected_retriever, memory=memory, combine_docs_chain_kwargs={\"prompt\": prompt})\n",
    "    \n",
    "    return qa(question)\n"
   ]
  },
  {
   "cell_type": "code",
   "execution_count": 33,
   "metadata": {},
   "outputs": [
    {
     "name": "stderr",
     "output_type": "stream",
     "text": [
      "C:\\Users\\서종호\\AppData\\Local\\Temp\\ipykernel_24136\\801693640.py:50: LangChainDeprecationWarning: The method `Chain.__call__` was deprecated in langchain 0.1.0 and will be removed in 1.0. Use invoke instead.\n",
      "  return qa(question)\n"
     ]
    },
    {
     "data": {
      "text/plain": [
       "{'question': '렉스턴은 안전벨트가 몇개야?',\n",
       " 'chat_history': [HumanMessage(content='렉스턴은 안전벨트가 몇개야?'),\n",
       "  AIMessage(content='렉스턴의 경우, 앞좌석에는 2개의 안전벨트가 있습니다. 뒷좌석 1열에는 3개의 안전벨트(중앙과 양측)가 있으며, 뒷좌석 2열에는 2개의 안전벨트가 있습니다.\\n\\n따라서 총 7개의 안전벨트가 설치되어 있습니다.')],\n",
       " 'answer': '렉스턴의 경우, 앞좌석에는 2개의 안전벨트가 있습니다. 뒷좌석 1열에는 3개의 안전벨트(중앙과 양측)가 있으며, 뒷좌석 2열에는 2개의 안전벨트가 있습니다.\\n\\n따라서 총 7개의 안전벨트가 설치되어 있습니다.'}"
      ]
     },
     "execution_count": 33,
     "metadata": {},
     "output_type": "execute_result"
    }
   ],
   "source": [
    "process_question(\"렉스턴은 안전벨트가 몇개야?\",llm=llm)"
   ]
  },
  {
   "cell_type": "code",
   "execution_count": 36,
   "metadata": {},
   "outputs": [
    {
     "data": {
      "text/plain": [
       "{'question': '베뉴 뒷좌석을 어떻게 접어야해?',\n",
       " 'chat_history': [HumanMessage(content='베뉴 뒷좌석을 어떻게 접어야해?'),\n",
       "  AIMessage(content='베뉴의 뒷좌석은 60/40 분리식입니다. \\n\\n1. 좌석을 뒤로 당겨서, 분리선에 도달할 때까지 당기세요.\\n2. 좌석이 분리선을 넘어서는 것을 막기 위해, 분리선에 있는 버튼을 눌러주세요.\\n3. 좌석의 앞부분을 뒤로 당겨서, 분리선과 맞닿게 하세요.\\n4. 좌석의 뒷부분을 앞으로 당겨서, 분리선과 맞닿게 하세요.\\n\\n이러면 베뉴의 뒷좌석은 60/40 분리식으로 사용할 수 있습니다.')],\n",
       " 'answer': '베뉴의 뒷좌석은 60/40 분리식입니다. \\n\\n1. 좌석을 뒤로 당겨서, 분리선에 도달할 때까지 당기세요.\\n2. 좌석이 분리선을 넘어서는 것을 막기 위해, 분리선에 있는 버튼을 눌러주세요.\\n3. 좌석의 앞부분을 뒤로 당겨서, 분리선과 맞닿게 하세요.\\n4. 좌석의 뒷부분을 앞으로 당겨서, 분리선과 맞닿게 하세요.\\n\\n이러면 베뉴의 뒷좌석은 60/40 분리식으로 사용할 수 있습니다.'}"
      ]
     },
     "execution_count": 36,
     "metadata": {},
     "output_type": "execute_result"
    }
   ],
   "source": [
    "process_question(\"베뉴 뒷좌석을 어떻게 접어야해?\",llm=llm)"
   ]
  },
  {
   "cell_type": "code",
   "execution_count": 59,
   "metadata": {},
   "outputs": [],
   "source": [
    "from langchain.prompts import (\n",
    "    ChatPromptTemplate,\n",
    "    SystemMessagePromptTemplate,\n",
    "    HumanMessagePromptTemplate,\n",
    ")\n",
    "from langchain.memory import ConversationBufferMemory\n",
    "from langchain.chains import ConversationalRetrievalChain"
   ]
  },
  {
   "cell_type": "code",
   "execution_count": null,
   "metadata": {},
   "outputs": [],
   "source": [
    "# Prompt\n",
    "prompt = ChatPromptTemplate(\n",
    "    messages=[\n",
    "        SystemMessagePromptTemplate.from_template(\n",
    "                     \"\"\"\n",
    "                너는 친절하고 기억력이 좋은 챗봇이며, 사용자의 질문에 정확하고 일관성 있게 답변할 수 있는 능력을 갖추고 있습니다. 다음 지침에 따라 질문에 답하십시오:\n",
    "\n",
    "\n",
    "                정보 누락 시 대처:\n",
    "                    - 만약 필요한 정보를 찾지 못하거나 검색 결과가 충분하지 않다면, 사용자에게 해당 정보를 제공할 수 없음을 알리고, 구체적인 추가 정보를 요청하십시오.\n",
    "\n",
    "                답을 모를 경우:\n",
    "                    - \"모릅니다\"라고만 답하고, 답을 지어내지 마십시오. 모르는 것은 반드시 \"모릅니다\"라고 답해야 합니다.\n",
    "                \n",
    "                현재 대화내용 : {chat_history}\n",
    "                이전 대화의 맥락을 참고하여 질문에 정확하고 일관성 있는 답변을 제공하십시오.\n",
    "                이전 대화가 없다면 다시 질문을 해달라고 요청하십시오.\n",
    "\n",
    "                다음은 실제로 사용자에게 보여질 답변입니다:\n",
    "            \n",
    "                {context}를 활용해서 대답하십시오.\n",
    "            \"\"\"\n",
    "        ),\n",
    "        HumanMessagePromptTemplate.from_template(\"{question}\"),\n",
    "    ]\n",
    ")\n",
    "\n",
    "memory = ConversationBufferMemory(memory_key=\"chat_history\", return_messages=True)\n",
    "# qa = ConversationalRetrievalChain.from_llm(llm, retriever=retriever, memory=memory, combine_docs_chain_kwargs={\"prompt\": prompt})"
   ]
  },
  {
   "cell_type": "code",
   "execution_count": null,
   "metadata": {},
   "outputs": [],
   "source": [
    "def llmanswer(question,llm,retriever,) "
   ]
  },
  {
   "cell_type": "code",
   "execution_count": 56,
   "metadata": {},
   "outputs": [
    {
     "data": {
      "text/plain": [
       "{'question': '렉스턴 안전벨트착용법 알려줘',\n",
       " 'chat_history': [HumanMessage(content='렉스턴 안전벨트 개수'),\n",
       "  AIMessage(content='렉스턴의 안전벨트는 총 6개입니다.'),\n",
       "  HumanMessage(content='렉스턴 안전벨트착용법 알려줘'),\n",
       "  AIMessage(content=\"To wear a safety belt in a Lexus, follow these general steps. The process might be slightly different depending on the specific model year and trim of your vehicle, but I'll provide you with the most common procedure.\\n\\n1.  **Adjust the seat**: Before putting on the seatbelt, ensure that your seat is adjusted to a comfortable position for driving. This includes adjusting the height, lumbar support, and any other features available in your Lexus model.\\n2.  **Locate the seatbelt**: The seatbelts are usually located at the sides of the seats or across the chest. In most cases, you'll find them attached to the door or the roof of the vehicle.\\n3.  **Put on the lap belt**: Place the lap belt across your hips and below your waistline. It should be snug but not too tight. Make sure it's positioned correctly to provide maximum protection in case of an accident.\\n4.  **Adjust the shoulder strap**: Once you have the lap belt in place, adjust the shoulder strap so that it crosses your chest and shoulders comfortably. The strap should be snug but not constricting.\\n5.  **Check the fit**: Before starting the engine or driving, check that both the lap belt and shoulder strap are securely fastened. You can do this by gently tugging on each part of the seatbelt to ensure it's in place.\\n\\n**Additional Tips:**\\n\\n*   Always wear your safety belt when sitting in a Lexus, even for short trips.\\n*   Make sure children or pets are properly secured with their own safety belts or child seats.\\n*   If you're unsure about how to use the safety belt in your specific Lexus model, consult the owner's manual or contact a dealership for assistance.\")],\n",
       " 'answer': \"To wear a safety belt in a Lexus, follow these general steps. The process might be slightly different depending on the specific model year and trim of your vehicle, but I'll provide you with the most common procedure.\\n\\n1.  **Adjust the seat**: Before putting on the seatbelt, ensure that your seat is adjusted to a comfortable position for driving. This includes adjusting the height, lumbar support, and any other features available in your Lexus model.\\n2.  **Locate the seatbelt**: The seatbelts are usually located at the sides of the seats or across the chest. In most cases, you'll find them attached to the door or the roof of the vehicle.\\n3.  **Put on the lap belt**: Place the lap belt across your hips and below your waistline. It should be snug but not too tight. Make sure it's positioned correctly to provide maximum protection in case of an accident.\\n4.  **Adjust the shoulder strap**: Once you have the lap belt in place, adjust the shoulder strap so that it crosses your chest and shoulders comfortably. The strap should be snug but not constricting.\\n5.  **Check the fit**: Before starting the engine or driving, check that both the lap belt and shoulder strap are securely fastened. You can do this by gently tugging on each part of the seatbelt to ensure it's in place.\\n\\n**Additional Tips:**\\n\\n*   Always wear your safety belt when sitting in a Lexus, even for short trips.\\n*   Make sure children or pets are properly secured with their own safety belts or child seats.\\n*   If you're unsure about how to use the safety belt in your specific Lexus model, consult the owner's manual or contact a dealership for assistance.\"}"
      ]
     },
     "execution_count": 56,
     "metadata": {},
     "output_type": "execute_result"
    }
   ],
   "source": [
    "qa(\"렉스턴 안전벨트착용법 알려줘\")"
   ]
  }
 ],
 "metadata": {
  "kernelspec": {
   "display_name": "LLMenv",
   "language": "python",
   "name": "python3"
  },
  "language_info": {
   "codemirror_mode": {
    "name": "ipython",
    "version": 3
   },
   "file_extension": ".py",
   "mimetype": "text/x-python",
   "name": "python",
   "nbconvert_exporter": "python",
   "pygments_lexer": "ipython3",
   "version": "3.8.19"
  }
 },
 "nbformat": 4,
 "nbformat_minor": 2
}
